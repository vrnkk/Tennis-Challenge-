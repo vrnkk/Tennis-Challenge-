{
 "cells": [
  {
   "cell_type": "markdown",
   "metadata": {},
   "source": [
    "# Collaboration and Competition\n",
    "\n",
    "---\n",
    "\n",
    "You are welcome to use this coding environment to train your agent for the project.  Follow the instructions below to get started!\n",
    "\n",
    "### 1. Start the Environment\n",
    "\n",
    "Run the next code cell to install a few packages.  This line will take a few minutes to run!"
   ]
  },
  {
   "cell_type": "code",
   "execution_count": 1,
   "metadata": {},
   "outputs": [
    {
     "name": "stdout",
     "output_type": "stream",
     "text": [
      "\u001b[31mtensorflow 1.7.1 has requirement numpy>=1.13.3, but you'll have numpy 1.12.1 which is incompatible.\u001b[0m\r\n",
      "\u001b[31mipython 6.5.0 has requirement prompt-toolkit<2.0.0,>=1.0.15, but you'll have prompt-toolkit 3.0.3 which is incompatible.\u001b[0m\r\n"
     ]
    }
   ],
   "source": [
    "!pip -q install ./python"
   ]
  },
  {
   "cell_type": "code",
   "execution_count": 2,
   "metadata": {},
   "outputs": [],
   "source": [
    "%load_ext autoreload\n",
    "%autoreload 2\n",
    "%matplotlib inline\n",
    "\n",
    "import numpy as np\n",
    "\n",
    "from IPython.display import clear_output\n",
    "\n",
    "import torch\n",
    "\n",
    "import time\n",
    "from unityagents import UnityEnvironment\n",
    "from ddpg_agentx import OUNoise\n",
    "from collections import namedtuple, deque\n",
    "import matplotlib.pyplot as plt\n",
    "from ddpg_agentx import Agent\n",
    "from ddpg_agentx import ReplayBuffer\n",
    "from ddpg_agentx import MultiagentWrapper"
   ]
  },
  {
   "cell_type": "markdown",
   "metadata": {},
   "source": [
    "The environment is already saved in the Workspace and can be accessed at the file path provided below. "
   ]
  },
  {
   "cell_type": "code",
   "execution_count": 3,
   "metadata": {},
   "outputs": [
    {
     "name": "stderr",
     "output_type": "stream",
     "text": [
      "INFO:unityagents:\n",
      "'Academy' started successfully!\n",
      "Unity Academy name: Academy\n",
      "        Number of Brains: 1\n",
      "        Number of External Brains : 1\n",
      "        Lesson number : 0\n",
      "        Reset Parameters :\n",
      "\t\t\n",
      "Unity brain name: TennisBrain\n",
      "        Number of Visual Observations (per agent): 0\n",
      "        Vector Observation space type: continuous\n",
      "        Vector Observation space size (per agent): 8\n",
      "        Number of stacked Vector Observation: 3\n",
      "        Vector Action space type: continuous\n",
      "        Vector Action space size (per agent): 2\n",
      "        Vector Action descriptions: , \n"
     ]
    }
   ],
   "source": [
    "from unityagents import UnityEnvironment\n",
    "import torch\n",
    "import numpy as np\n",
    "from collections import deque\n",
    "import matplotlib.pyplot as plt\n",
    "%matplotlib inline\n",
    "\n",
    "env = UnityEnvironment(file_name=\"/data/Tennis_Linux_NoVis/Tennis\")"
   ]
  },
  {
   "cell_type": "markdown",
   "metadata": {},
   "source": [
    "Environments contain **_brains_** which are responsible for deciding the actions of their associated agents. Here we check for the first brain available, and set it as the default brain we will be controlling from Python."
   ]
  },
  {
   "cell_type": "code",
   "execution_count": 4,
   "metadata": {},
   "outputs": [],
   "source": [
    "# get the default brain\n",
    "brain_name = env.brain_names[0]\n",
    "brain = env.brains[brain_name]"
   ]
  },
  {
   "cell_type": "markdown",
   "metadata": {},
   "source": [
    "### 2. Examine the State and Action Spaces\n",
    "\n",
    "Run the code cell below to print some information about the environment."
   ]
  },
  {
   "cell_type": "code",
   "execution_count": 5,
   "metadata": {},
   "outputs": [
    {
     "name": "stdout",
     "output_type": "stream",
     "text": [
      "Number of agents: 2\n",
      "Size of each action: 2\n",
      "There are 2 agents. Each observes a state with length: 24\n",
      "The state for the first agent looks like: [ 0.          0.          0.          0.          0.          0.          0.\n",
      "  0.          0.          0.          0.          0.          0.          0.\n",
      "  0.          0.         -6.65278625 -1.5        -0.          0.\n",
      "  6.83172083  6.         -0.          0.        ]\n"
     ]
    }
   ],
   "source": [
    "# reset the environment\n",
    "env_info = env.reset(train_mode=True)[brain_name]\n",
    "\n",
    "# number of agents \n",
    "num_agents = len(env_info.agents)\n",
    "print('Number of agents:', num_agents)\n",
    "\n",
    "# size of each action\n",
    "action_size = brain.vector_action_space_size\n",
    "print('Size of each action:', action_size)\n",
    "\n",
    "# examine the state space \n",
    "states = env_info.vector_observations\n",
    "state_size = states.shape[1]\n",
    "print('There are {} agents. Each observes a state with length: {}'.format(states.shape[0], state_size))\n",
    "print('The state for the first agent looks like:', states[0])"
   ]
  },
  {
   "cell_type": "markdown",
   "metadata": {},
   "source": [
    "### 3. Take Random Actions in the Environment\n",
    "\n",
    "In the next code cell, you will learn how to use the Python API to control the agent and receive feedback from the environment.\n",
    "\n",
    "Note that **in this coding environment, you will not be able to watch the agents while they are training**, and you should set `train_mode=True` to restart the environment."
   ]
  },
  {
   "cell_type": "code",
   "execution_count": 8,
   "metadata": {},
   "outputs": [
    {
     "name": "stdout",
     "output_type": "stream",
     "text": [
      "Total score (averaged over agents) this episode: -0.004999999888241291\n",
      "Total score (averaged over agents) this episode: -0.004999999888241291\n",
      "Total score (averaged over agents) this episode: -0.004999999888241291\n",
      "Total score (averaged over agents) this episode: -0.004999999888241291\n",
      "Total score (averaged over agents) this episode: -0.004999999888241291\n"
     ]
    }
   ],
   "source": [
    "#for i in range(5):                                         # play game for 5 episodes\n",
    "#    env_info = env.reset(train_mode=False)[brain_name]     # reset the environment    \n",
    "#    states = env_info.vector_observations                  # get the current state (for each agent)\n",
    "#    scores = np.zeros(num_agents)                          # initialize the score (for each agent)\n",
    "#    while True:\n",
    "#        actions = np.random.randn(num_agents, action_size) # select an action (for each agent)\n",
    "#        actions = np.clip(actions, -1, 1)                  # all actions between -1 and 1\n",
    "#        env_info = env.step(actions)[brain_name]           # send all actions to tne environment\n",
    "#        next_states = env_info.vector_observations         # get next state (for each agent)\n",
    "#        rewards = env_info.rewards                         # get reward (for each agent)\n",
    "#        dones = env_info.local_done                        # see if episode finished\n",
    "#        scores += env_info.rewards                         # update the score (for each agent)\n",
    "#        states = next_states                               # roll over states to next time step\n",
    "#        if np.any(dones):                                  # exit loop if episode finished\n",
    "#            break\n",
    "#    print('Total score (averaged over agents) this episode: {}'.format(np.mean(scores)))"
   ]
  },
  {
   "cell_type": "code",
   "execution_count": 6,
   "metadata": {},
   "outputs": [],
   "source": [
    "BUFFER_SIZE = int(1e6)  # replay buffer size\n",
    "BATCH_SIZE = 512        # minibatch size\n",
    "UPDATE_INTERVAL = 4    # The number of time steps after which the agents are retrained\n",
    "UPDATE_STEPS = 1       # The number of minibatches that are used for a retraining of the agents\n",
    "NOISE_LEVEL=0.7\n",
    "NOISE_DECAY=0.9999\n",
    "RANDOM_SEED=7\n",
    "NUM_AGENTS=2\n",
    "SOLUTION_THRESHOLD=0.5"
   ]
  },
  {
   "cell_type": "code",
   "execution_count": 7,
   "metadata": {},
   "outputs": [
    {
     "name": "stdout",
     "output_type": "stream",
     "text": [
      "Episode 100\tAverage Score: 0.01\tScore: 0.00\tNoise Level: 0.69\n",
      "Episode 200\tAverage Score: 0.01\tScore: 0.00\tNoise Level: 0.69\n",
      "Episode 300\tAverage Score: 0.01\tScore: 0.00\tNoise Level: 0.68\n",
      "Episode 400\tAverage Score: 0.02\tScore: 0.00\tNoise Level: 0.67\n",
      "Episode 500\tAverage Score: 0.04\tScore: 0.09\tNoise Level: 0.67\n",
      "Episode 600\tAverage Score: 0.08\tScore: 0.10\tNoise Level: 0.66\n",
      "Episode 700\tAverage Score: 0.08\tScore: 0.09\tNoise Level: 0.65\n",
      "Episode 800\tAverage Score: 0.09\tScore: 0.10\tNoise Level: 0.65\n",
      "Episode 900\tAverage Score: 0.12\tScore: 0.20\tNoise Level: 0.64\n",
      "Episode 1000\tAverage Score: 0.30\tScore: 0.10\tNoise Level: 0.63\n",
      "Episode 1100\tAverage Score: 0.40\tScore: 0.09\tNoise Level: 0.63\n",
      "Episode 1113\tAverage Score: 0.50\tScore: 1.60\tNoise Level: 0.63\n",
      "Environment solved! Saving agent weights\n"
     ]
    }
   ],
   "source": [
    "replaybuffer = ReplayBuffer(action_size, BUFFER_SIZE, BATCH_SIZE, RANDOM_SEED)\n",
    "\n",
    "agents = MultiagentWrapper(RANDOM_SEED, BATCH_SIZE, replaybuffer)\n",
    "\n",
    "def ddpg(n_episodes=2000, noise_level=NOISE_LEVEL, noise_decay=NOISE_DECAY):\n",
    "    total_t = 0\n",
    "    scores_deque = deque(maxlen=100)\n",
    "    scores = []\n",
    "    max_score = -np.Inf\n",
    "    for i_episode in range(1, n_episodes+1):\n",
    "        env_info = env.reset(train_mode=False)[brain_name]\n",
    "        states = env_info.vector_observations\n",
    "        for agent in agents.agents:\n",
    "            agent.reset()\n",
    "        \n",
    "        scores_agents = np.zeros(NUM_AGENTS)\n",
    "        for t in range(0, 1000):\n",
    "            total_t += 1\n",
    "            actions = agents.act(states, noise_level)\n",
    "            env_info = env.step(actions)[brain_name]\n",
    "            next_states = env_info.vector_observations\n",
    "            rewards = env_info.rewards                         # get reward (for each agent)\n",
    "            dones = env_info.local_done                        # see if episode finished\n",
    "\n",
    "            scores_agents += np.array(env_info.rewards)\n",
    "            replaybuffer.add(states, actions, rewards, next_states, dones)\n",
    "            \n",
    "            if total_t%UPDATE_INTERVAL==0:\n",
    "                for _ in range(0, UPDATE_STEPS):\n",
    "                    agents.learn()\n",
    "\n",
    "            states = next_states                               # roll over states to next time step\n",
    "            if np.any(dones):                                  # exit loop if episode finished\n",
    "                break\n",
    "\n",
    "        scores_deque.append(np.max(scores_agents)) # as discussed maximum of both agents\n",
    "        scores.append(np.concatenate((scores_agents, (np.mean(scores_deque),))))\n",
    "        if i_episode % 100 == 0:\n",
    "            print('\\rEpisode {}\\tAverage Score: {:.2f}\\tScore: {:.2f}\\tNoise Level: {:.2f}'.format(i_episode, np.mean(scores_deque), scores_deque[-1], noise_level))\n",
    "        else:\n",
    "            print('\\rEpisode {}\\tAverage Score: {:.2f}\\tScore: {:.2f}\\tNoise Level: {:.2f}'.format(i_episode, np.mean(scores_deque), scores_deque[-1], noise_level), end=\"\")\n",
    "            \n",
    "        noise_level *= noise_decay\n",
    "\n",
    "        if np.mean(scores_deque) >= SOLUTION_THRESHOLD:\n",
    "            print()\n",
    "            print('Environment solved! Saving agent weights')\n",
    "            for agentNr in range(0, NUM_AGENTS):\n",
    "                # torch.save(agents.agents[agentNr].actor_local.state_dict(), 'model_weights/checkpoint_actor_{0}.pth'.format(agentNr))\n",
    "                # torch.save(agents.agents[agentNr].critic_local.state_dict(), 'model_weights/checkpoint_critic_{0}.pth'.format(agentNr))\n",
    "                torch.save(agents.agents[agentNr].actor_local.state_dict(), 'checkpoint_actor_{0}.pth'.format(agentNr))\n",
    "                torch.save(agents.agents[agentNr].critic_local.state_dict(), 'checkpoint_critic_{0}.pth'.format(agentNr))\n",
    "\n",
    "            break\n",
    "\n",
    "    return scores\n",
    "\n",
    "scores = ddpg(n_episodes=10000)\n",
    "\n"
   ]
  },
  {
   "cell_type": "markdown",
   "metadata": {},
   "source": [
    "Plots for the Performance"
   ]
  },
  {
   "cell_type": "code",
   "execution_count": 8,
   "metadata": {},
   "outputs": [
    {
     "data": {
      "image/png": "[encoded data removed]",
      "text/plain": [
       "<matplotlib.figure.Figure at 0x7ff452d67908>"
      ]
     },
     "metadata": {
      "needs_background": "light"
     },
     "output_type": "display_data"
    }
   ],
   "source": [
    "fig, ax = plt.subplots(1,1,figsize=(10,10))\n",
    "for agentNr in range(0, NUM_AGENTS):\n",
    "    plt.plot(np.arange(1, len(scores)+1), [score[agentNr] for score in scores], label='Agent {}'.format(agentNr+1), linewidth=1)\n",
    "plt.plot(np.arange(1, len(scores)+1), [score[NUM_AGENTS] for score in scores], label='Average over max of agents', linewidth=4)\n",
    "plt.ylabel('Score')\n",
    "plt.xlabel('Episode #')\n",
    "ax.legend()\n",
    "plt.show()"
   ]
  },
  {
   "cell_type": "code",
   "execution_count": 12,
   "metadata": {},
   "outputs": [
    {
     "name": "stdout",
     "output_type": "stream",
     "text": [
      "Running Episode Nr 1, please check graphical output window\n",
      "The agents got the following scores:  [ 0.    0.09]\n",
      "Running Episode Nr 2, please check graphical output window\n",
      "Quitting after 500 timesteps so that it doesn't go on forever\n",
      "The agents got the following scores:  [ 1.30000002  1.30000002]\n",
      "Running Episode Nr 3, please check graphical output window\n",
      "Quitting after 500 timesteps so that it doesn't go on forever\n",
      "The agents got the following scores:  [ 1.30000002  1.30000002]\n"
     ]
    }
   ],
   "source": [
    "replaybuffer = ReplayBuffer(action_size, BUFFER_SIZE, BATCH_SIZE, RANDOM_SEED)\n",
    "\n",
    "agents = MultiagentWrapper(RANDOM_SEED, BATCH_SIZE, replaybuffer)\n",
    "\n",
    "for agentNr in range(0, NUM_AGENTS):\n",
    "    agents.agents[agentNr].actor_local.load_state_dict(torch.load('checkpoint_actor_{0}.pth'.format(agentNr)))\n",
    "    agents.agents[agentNr].critic_local.load_state_dict(torch.load('checkpoint_critic_{0}.pth'.format(agentNr)))\n",
    "\n",
    "def run_ddpg():\n",
    "    for episode in range(0, 3):\n",
    "        print(\"Running Episode Nr {0}, please check graphical output window\".format(episode+1))\n",
    "        env_info = env.reset(train_mode=False)[brain_name]\n",
    "        states = env_info.vector_observations\n",
    "        for agent in agents.agents:\n",
    "            agent.reset()\n",
    "        scores_agents = np.zeros(num_agents)\n",
    "        for t in range(0, 500):\n",
    "            actions = agents.act(states, 0.0)\n",
    "            env_info = env.step(actions)[brain_name]\n",
    "            next_states = env_info.vector_observations\n",
    "            rewards = env_info.rewards                         # get reward (for each agent)\n",
    "            dones = env_info.local_done                        # see if episode finished\n",
    "            scores_agents += np.array(env_info.rewards)\n",
    "            states = next_states                               # roll over states to next time step\n",
    "            if np.any(dones):                                  # exit loop if episode finished\n",
    "                break\n",
    "            time.sleep(0.01)\n",
    "            if t == 499:\n",
    "                print(\"Quitting after 500 timesteps so that it doesn't go on forever\")\n",
    "                break\n",
    "        print(\"The agents got the following scores: \", scores_agents)\n",
    "   \n",
    "run_ddpg()"
   ]
  },
  {
   "cell_type": "markdown",
   "metadata": {},
   "source": [
    "When finished, you can close the environment."
   ]
  },
  {
   "cell_type": "code",
   "execution_count": 13,
   "metadata": {},
   "outputs": [],
   "source": [
    "env.close()"
   ]
  },
  {
   "cell_type": "markdown",
   "metadata": {},
   "source": [
    "### 4. It's Your Turn!\n",
    "\n",
    "Now it's your turn to train your own agent to solve the environment!  A few **important notes**:\n",
    "- When training the environment, set `train_mode=True`, so that the line for resetting the environment looks like the following:\n",
    "```python\n",
    "env_info = env.reset(train_mode=True)[brain_name]\n",
    "```\n",
    "- To structure your work, you're welcome to work directly in this Jupyter notebook, or you might like to start over with a new file!  You can see the list of files in the workspace by clicking on **_Jupyter_** in the top left corner of the notebook.\n",
    "- In this coding environment, you will not be able to watch the agents while they are training.  However, **_after training the agents_**, you can download the saved model weights to watch the agents on your own machine! "
   ]
  }
 ],
 "metadata": {
  "kernelspec": {
   "display_name": "Python 3",
   "language": "python",
   "name": "python3"
  },
  "language_info": {
   "codemirror_mode": {
    "name": "ipython",
    "version": 3
   },
   "file_extension": ".py",
   "mimetype": "text/x-python",
   "name": "python",
   "nbconvert_exporter": "python",
   "pygments_lexer": "ipython3",
   "version": "3.6.3"
  }
 },
 "nbformat": 4,
 "nbformat_minor": 2
}
